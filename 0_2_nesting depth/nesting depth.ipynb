{
 "cells": [
  {
   "cell_type": "markdown",
   "metadata": {},
   "source": [
    "## nesting depth\n",
    "tl;dr: Given a string of digits S, insert a minimum number of opening and closing parentheses into it such that the resulting string is balanced and each digit d is inside exactly d pairs of matching parentheses.<br><br>\n",
    "\n",
    "Let the nesting of two parentheses within a string be the substring that occurs strictly between them. An opening parenthesis and a closing parenthesis that is further to its right are said to match if their nesting is empty, or if every parenthesis in their nesting matches with another parenthesis in their nesting. The nesting depth of a position p is the number of pairs of matching parentheses m such that p is included in the nesting of m.<br><br>\n",
    "\n",
    "For example, in the following strings, all digits match their nesting depth: 0((2)1), (((3))1(2)), ((((4)))), ((2))((2))(1). The first three strings have minimum length among those that have the same digits in the same order, but the last one does not since ((22)1) also has the digits 221 and is shorter.<br><br>\n",
    "\n",
    "Given a string of digits S, find another string S', comprised of parentheses and digits, such that:<br>\n",
    "all parentheses in S' match some other parenthesis,<br>\n",
    "removing any and all parentheses from S' results in S,<br>\n",
    "each digit in S' is equal to its nesting depth, and<br>\n",
    "S' is of minimum length.<br>\n"
   ]
  },
  {
   "cell_type": "markdown",
   "metadata": {},
   "source": [
    "## Input\n",
    "\n",
    "<br>\n",
    "number of test cases<br>\n",
    "test case<br>\n",
    "...<br>\n",
    "test case<br><br>\n",
    "\n",
    "4<br>\n",
    "0000<br>\n",
    "101<br>\n",
    "111000<br>\n",
    "1<br>\n",
    "\n",
    "\n",
    "## Output\n",
    "Case #nr: outputs<br><br>\n",
    "  \n",
    "Case #1: 0000<br>\n",
    "Case #2: (1)0(1)<br>\n",
    "Case #3: (111)000<br>\n",
    "Case #4: (1)<br>"
   ]
  },
  {
   "cell_type": "code",
   "execution_count": null,
   "metadata": {},
   "outputs": [],
   "source": [
    "%reset"
   ]
  },
  {
   "cell_type": "code",
   "execution_count": 38,
   "metadata": {},
   "outputs": [],
   "source": [
    "FILENAME = 'nesting depth'\n",
    "\n",
    "import sys\n",
    "import numpy as np\n",
    "\n",
    "sys.stdin = open(FILENAME + \".in\", 'r')\n",
    "sys.stdout = open(FILENAME + \".out\", 'w')\n",
    "file_in = sys.stdin\n",
    "file_out = sys.stdout\n",
    "\n",
    "def get_line(): return file_in.readline()\n",
    "def get_int(): return int(get_line())\n",
    "def get_ints(): return [int(x) for x in get_line().split()]\n",
    "def get_digits(): return [int(x) for x in get_line().split()[0]]\n",
    "\n",
    "cases = get_int()\n",
    "case = 0\n",
    "\n",
    "for k in range(cases):\n",
    "    case += 1\n",
    "    \n",
    "    data = get_digits()\n",
    "    \n",
    "    result = str()\n",
    "    n_brackets = 0\n",
    "    prev = -1\n",
    "    for element in data:\n",
    "        if element > prev:\n",
    "            while n_brackets < element:\n",
    "                result += '('\n",
    "                n_brackets += 1\n",
    "        elif element < prev:\n",
    "            while n_brackets > element:\n",
    "                result += ')'\n",
    "                n_brackets -= 1\n",
    "        result += str(element)\n",
    "        prev = element\n",
    "        \n",
    "    while n_brackets > 0:\n",
    "        result += ')'\n",
    "        n_brackets -= 1\n",
    "    \n",
    "    print('Case #%d: %s' % (case,result))\n"
   ]
  },
  {
   "cell_type": "code",
   "execution_count": null,
   "metadata": {},
   "outputs": [],
   "source": []
  }
 ],
 "metadata": {
  "kernelspec": {
   "display_name": "Python 3",
   "language": "python",
   "name": "python3"
  },
  "language_info": {
   "codemirror_mode": {
    "name": "ipython",
    "version": 3
   },
   "file_extension": ".py",
   "mimetype": "text/x-python",
   "name": "python",
   "nbconvert_exporter": "python",
   "pygments_lexer": "ipython3",
   "version": "3.7.5"
  }
 },
 "nbformat": 4,
 "nbformat_minor": 4
}

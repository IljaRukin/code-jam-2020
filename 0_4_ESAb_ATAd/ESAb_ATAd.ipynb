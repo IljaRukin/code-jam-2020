{
 "cells": [
  {
   "cell_type": "markdown",
   "metadata": {},
   "source": [
    "## ESAb ATAd\n",
    "Last year, a research consortium had some trouble with a distributed database system that sometimes lost pieces of the data. You do not need to read or understand that problem in order to solve this one!<br><br>\n",
    "\n",
    "The consortium has decided that distributed systems are too complicated, so they are storing B bits of important information in a single array on one awesome machine. As an additional layer of security, they have made it difficult to obtain the information quickly; the user must query for a bit position between 1 and B, and then they receive that bit of the stored array as a response.<br><br>\n",
    "\n",
    "Unfortunately, this ultra-modern machine is subject to random quantum fluctuations! Specifically, after every 1st, 11th, 21st, 31st... etc. query is sent, but before the response is given, quantum fluctuation causes exactly one of the following four effects, with equal probability:<br><br>\n",
    "\n",
    "25% of the time, the array is complemented: every 0 becomes a 1, and vice versa.<br>\n",
    "25% of the time, the array is reversed: the first bit swaps with the last bit, the second bit swaps with the second-to-last bit, and so on.<br>\n",
    "25% of the time, both of the things above (complementation and reversal) happen to the array. (Notice that the order in which they happen does not matter.)<br>\n",
    "25% of the time, nothing happens to the array.<br>\n",
    "Moreover, there is no indication of what effect the quantum fluctuation has had each time. The consortium is now concerned, and it has hired you to get its precious data back, in whatever form it is in! Can you find the entire array, such that your answer is accurate as of the time that you give it? Answering does not count as a query, so if you answer after your 30th query, for example, the array will be the same as it was after your 21st through 30th queries.<br><br>\n"
   ]
  },
  {
   "cell_type": "markdown",
   "metadata": {},
   "source": [
    "## interaction\n",
    "input: t, b   #number of test cases & array length (equal for all test cases)<br>\n",
    "output: p   #query for bit at position p (max 150 queries)<br>\n",
    "---if query number ends with 1, it get's modified<br>\n",
    "output: <b>current bits</b><br>\n",
    "input: Y/N   #result if solution was right<br>\n",
    "<br><br>\n",
    "B<=100 : discrad invalid bytes"
   ]
  },
  {
   "cell_type": "markdown",
   "metadata": {},
   "source": [
    "## sample interaction\n",
    "  t, b = readline_int_list()      // reads 100 into t and 10 into b.<br>\n",
    "  // The judge starts with the predetermined array for this test case:<br>\n",
    "  // 0001101111. (Note: the actual Test Set 1 will not necessarily<br>\n",
    "  // use this array.)<br>\n",
    "  printline 1 to stdout   // we ask about position 1.<br>\n",
    "  flush stdout<br>\n",
    "  // Since this is our 1st query, and 1 is 1 mod 10, the judge secretly and<br>\n",
    "  // randomly chooses one of the four possible quantum fluctuation effects, as<br>\n",
    "  // described above. It happens to choose complementation + reversal, so now<br>\n",
    "  // the stored value is 0000100111.<br>\n",
    "  r = readline_chr()      // reads 0.<br>\n",
    "  printline 6 to stdout   // we ask about position 6.<br>\n",
    "  flush stdout<br>\n",
    "  // Since this is our 2nd query, and 2 is 2 mod 10, the judge does not choose<br>\n",
    "  // a quantum fluctuation effect.<br>\n",
    "  r = readline_chr()      // reads 0.<br>\n",
    "  ...<br>\n",
    "  // We have omitted the third through tenth queries in this example.<br>\n",
    "  ...<br>\n",
    "  printline 1 to stdout   // we decide to ask about position 1 again.<br>\n",
    "  flush stdout<br>\n",
    "  // Since this is our 11th query, and 11 is 1 mod 10, the judge secretly and<br>\n",
    "  // randomly chooses a quantum fluctuation effect, and happens to get<br>\n",
    "  // reversal, so now the stored value is 1110010000.<br>\n",
    "  r = readline_chr()      // reads 1.<br>\n",
    "  printline 1110110000 to stdout   // we try to answer. why?!?!<br>\n",
    "  flush stdout<br>\n",
    "  ok = readline_chr()     // reads N -- we have made a mistake!<br>\n",
    "  exit                    // exits to avoid an ambiguous TLE error<br>"
   ]
  },
  {
   "cell_type": "code",
   "execution_count": null,
   "metadata": {},
   "outputs": [],
   "source": [
    "%reset"
   ]
  },
  {
   "cell_type": "code",
   "execution_count": 69,
   "metadata": {},
   "outputs": [],
   "source": [
    "FILENAME = 'ESAb ATAd'\n",
    "\n",
    "import sys\n",
    "import numpy as np\n",
    "\n",
    "sys.stdin = open(FILENAME + \".in\", 'r')\n",
    "sys.stdout = open(FILENAME + \".out\", 'w')\n",
    "file_in = sys.stdin\n",
    "file_out = sys.stdout\n",
    "\n",
    "def get_line(): return file_in.readline()\n",
    "def get_int(): return int(get_line())\n",
    "def get_ints(): return [int(x) for x in get_line().split()]\n",
    "\n",
    "cases,size = get_ints()\n",
    "case = 0\n",
    "\n",
    "for k in range(cases):\n",
    "    case += 1\n",
    "    result = list()\n",
    "    n_tests = int(np.ceil(size/10))\n",
    "    b=1\n",
    "    n=1\n",
    "    while b<=size:\n",
    "        #print(b, flush=True)\n",
    "        #sys.stdout.flush() #alternative to flush buffer\n",
    "        bit = get_int()\n",
    "        if (n-1)%10 != 0: #if last digit not 1\n",
    "            result.append(str(bit))\n",
    "            b += 1\n",
    "        n+=1\n",
    "    \n",
    "    print('Case #%d: %s' % (case,''.join(result)))\n"
   ]
  },
  {
   "cell_type": "code",
   "execution_count": 65,
   "metadata": {},
   "outputs": [
    {
     "data": {
      "text/plain": [
       "1"
      ]
     },
     "execution_count": 65,
     "metadata": {},
     "output_type": "execute_result"
    }
   ],
   "source": [
    "n_tests"
   ]
  },
  {
   "cell_type": "code",
   "execution_count": 66,
   "metadata": {},
   "outputs": [
    {
     "data": {
      "text/plain": [
       "True"
      ]
     },
     "execution_count": 66,
     "metadata": {},
     "output_type": "execute_result"
    }
   ],
   "source": [
    "b=12\n",
    "(b-1)%10 != 0"
   ]
  },
  {
   "cell_type": "code",
   "execution_count": null,
   "metadata": {},
   "outputs": [],
   "source": []
  }
 ],
 "metadata": {
  "kernelspec": {
   "display_name": "Python 3",
   "language": "python",
   "name": "python3"
  },
  "language_info": {
   "codemirror_mode": {
    "name": "ipython",
    "version": 3
   },
   "file_extension": ".py",
   "mimetype": "text/x-python",
   "name": "python",
   "nbconvert_exporter": "python",
   "pygments_lexer": "ipython3",
   "version": "3.7.5"
  }
 },
 "nbformat": 4,
 "nbformat_minor": 4
}

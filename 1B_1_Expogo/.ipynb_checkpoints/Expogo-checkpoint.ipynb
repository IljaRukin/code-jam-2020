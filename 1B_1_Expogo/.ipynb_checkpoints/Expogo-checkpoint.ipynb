{
 "cells": [
  {
   "cell_type": "raw",
   "metadata": {},
   "source": [
    "Problem\n",
    "You have just received the best gift ever: an Expogo stick. You can stand on it and use it to make increasingly large jumps.\n",
    "\n",
    "You are currently standing on point (0, 0) in your infinite two-dimensional backyard, and you are trying to reach a goal point (X, Y), with integer coordinates, in as few jumps as possible. You must land exactly on the goal point; it is not sufficient to pass over it on a jump.\n",
    "\n",
    "Each time you use your Expogo stick to jump, you pick a cardinal direction: north, south, east, or west. The i-th jump with your Expogo stick moves you 2(i-1) units in the chosen direction, so your first jump takes you 1 unit, your second jump takes you 2 units, your third jump takes you 4 units, and so on.\n",
    "\n",
    "Given a goal point (X, Y), determine whether it is possible to get there, and if so, demonstrate how to do it using as few jumps as possible.\n",
    "\n",
    "Input\n",
    "The first line of the input gives the number of test cases, T. T test cases follow. Each consists of a single line with two integers X and Y: the coordinates of the goal point.\n",
    "\n",
    "Output\n",
    "For each test case, output one line containing Case #x: y, where x is the test case number (starting from 1) and y is IMPOSSIBLE if the goal point cannot be reached. Otherwise, y must be a string of one or more characters, each of which is either N (north), S (south), E (east), or W (west), representing the directions of the jumps that you will make, in order. This sequence of jumps must reach the goal point at the end of the final jump, and it must be as short as possible.\n",
    "\n",
    "Limits\n",
    "Time limit: 20 seconds per test set.\n",
    "Memory limit: 1GB.\n",
    "(X, Y) ≠ (0, 0).\n",
    "\n",
    "Test set 1 (Visible Verdict)\n",
    "1 ≤ T ≤ 80.\n",
    "-4 ≤ X ≤ 4.\n",
    "-4 ≤ Y ≤ 4.\n",
    "\n",
    "Test set 2 (Visible Verdict)\n",
    "1 ≤ T ≤ 100.\n",
    "-100 ≤ X ≤ 100.\n",
    "-100 ≤ Y ≤ 100.\n",
    "\n",
    "Test set 3 (Visible Verdict)\n",
    "1 ≤ T ≤ 100.\n",
    "-109 ≤ X ≤ 109.\n",
    "-109 ≤ Y ≤ 109.\n",
    "\n",
    "Sample\n",
    "\n",
    "Input\n",
    " \t\n",
    "Output\n",
    " \n",
    "4\n",
    "2 3\n",
    "-2 -3\n",
    "3 0\n",
    "-1 1\n",
    "\n",
    "  \n",
    "Case #1: SEN\n",
    "Case #2: NWS\n",
    "Case #3: EE\n",
    "Case #4: IMPOSSIBLE\n",
    "\n",
    "  \n",
    "In Sample Case #1, you can jump south from (0, 0) to (0, -1), then jump east to (2, -1), then jump north to (2, 3).\n",
    "\n",
    "We can be sure there is not a more efficient solution (two moves or fewer) because at least 2 + 3 = 5 units of distance are needed to reach the goal point, but the first two jumps combined only give us 3 units of distance.\n",
    "\n",
    "Notice that Sample Case #2 is like Sample Case #1 but reflected across both axes, and so the answer comes from reflecting all directions in Sample Case #1's answer.\n",
    "\n",
    "In Sample Case #3, notice that EWE would not be a valid answer, even though it reaches the target, because there is a way to get there using fewer jumps.\n",
    "\n",
    "We leave it to you to determine why it is impossible to reach the target in Sample Case #4.Problem\n",
    "\n"
   ]
  },
  {
   "cell_type": "code",
   "execution_count": 148,
   "metadata": {},
   "outputs": [
    {
     "name": "stdout",
     "output_type": "stream",
     "text": [
      "Once deleted, variables cannot be recovered. Proceed (y/[n])? y\n"
     ]
    }
   ],
   "source": [
    "%reset"
   ]
  },
  {
   "cell_type": "code",
   "execution_count": 160,
   "metadata": {},
   "outputs": [],
   "source": [
    "FILENAME = 'Expogo'\n",
    "\n",
    "import sys\n",
    "import numpy as np\n",
    "\n",
    "sys.stdin = open(FILENAME + \".in\", 'r')\n",
    "sys.stdout = open(FILENAME + \".out\", 'w')\n",
    "file_in = sys.stdin\n",
    "file_out = sys.stdout\n",
    "\n",
    "def get_line(): return file_in.readline()\n",
    "def get_int(): return int(get_line())\n",
    "def get_ints(): return [int(x) for x in get_line().split()]\n",
    "\n",
    "cases = get_int()\n",
    "case = 0\n",
    "\n",
    "for k in range(cases):\n",
    "    case += 1\n",
    "    \n",
    "    x,y = get_ints()\n",
    "    result = str()\n",
    "        \n",
    "    if (x+y)%2==0 :\n",
    "        print('Case #%d: %s' % (case,'IMPOSSIBLE'))\n",
    "        continue\n",
    "    \n",
    "    if ((abs(x)==1) and (y==0)) or ((abs(y)==1) and (x==0)):\n",
    "        maximum = 0\n",
    "    else:\n",
    "        maximum = int( np.ceil(np.log2(abs(x)+abs(y)+1)) -1 )\n",
    "    \n",
    "    steps = dict()\n",
    "    for p in range(maximum,-1,-1):\n",
    "        if abs(x)>abs(y):\n",
    "            if x>0:\n",
    "                result = 'E' + result\n",
    "                x -= 2**p\n",
    "            else:\n",
    "                result = 'W' + result\n",
    "                x += 2**p\n",
    "        else:\n",
    "            if y>0:\n",
    "                result = 'N' + result\n",
    "                y -= 2**p\n",
    "            else:\n",
    "                result = 'S' + result\n",
    "                y += 2**p\n",
    "\n",
    "    if (abs(x)>0) or (abs(y)>0):\n",
    "        print('Case #%d: %s' % (case,'IMPOSSIBLE'))\n",
    "    else:\n",
    "        print('Case #%d: %s' % (case,result))"
   ]
  },
  {
   "cell_type": "code",
   "execution_count": 150,
   "metadata": {},
   "outputs": [],
   "source": [
    "xx,yy=0,0\n",
    "p=1/2\n",
    "for char in result:\n",
    "    p*=2\n",
    "    if char == 'N':\n",
    "        yy += p\n",
    "    if char == 'S':\n",
    "        yy -= p\n",
    "    if char == 'E':\n",
    "        xx += p\n",
    "    if char == 'W':\n",
    "        xx -= p\n",
    "print(int(xx),int(yy))"
   ]
  },
  {
   "cell_type": "code",
   "execution_count": 151,
   "metadata": {},
   "outputs": [],
   "source": [
    "for i in range(-4,5):\n",
    "    for j in range(-4,5):\n",
    "        print(i,' ',j)"
   ]
  },
  {
   "cell_type": "code",
   "execution_count": 159,
   "metadata": {},
   "outputs": [
    {
     "data": {
      "text/plain": [
       "2.0"
      ]
     },
     "execution_count": 159,
     "metadata": {},
     "output_type": "execute_result"
    }
   ],
   "source": [
    "np.log2(7+1)-1"
   ]
  },
  {
   "cell_type": "code",
   "execution_count": null,
   "metadata": {},
   "outputs": [],
   "source": []
  }
 ],
 "metadata": {
  "kernelspec": {
   "display_name": "Python 3",
   "language": "python",
   "name": "python3"
  },
  "language_info": {
   "codemirror_mode": {
    "name": "ipython",
    "version": 3
   },
   "file_extension": ".py",
   "mimetype": "text/x-python",
   "name": "python",
   "nbconvert_exporter": "python",
   "pygments_lexer": "ipython3",
   "version": "3.7.5"
  }
 },
 "nbformat": 4,
 "nbformat_minor": 4
}

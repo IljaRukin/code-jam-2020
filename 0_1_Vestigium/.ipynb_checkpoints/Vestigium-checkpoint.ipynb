{
 "cells": [
  {
   "cell_type": "markdown",
   "metadata": {},
   "source": [
    "## Vestigium \n",
    "Vestigium means \"trace\" in Latin. In this problem we work with Latin squares and matrix traces.<br><br>\n",
    "\n",
    "The trace of a square matrix is the sum of the values on the main diagonal (which runs from the upper left to the lower right).<br><br>\n",
    "\n",
    "An N-by-N square matrix is a Latin square if each cell contains one of N different values, and no value is repeated within a row or a column. In this problem, we will deal only with \"natural Latin squares\" in which the N values are the integers between 1 and N.<br><br>\n",
    "\n",
    "Given a matrix that contains only integers between 1 and N, we want to compute its trace and check whether it is a natural Latin square. To give some additional information, instead of simply telling us whether the matrix is a natural Latin square or not, please compute the number of rows and the number of columns that contain repeated values.<br><br>"
   ]
  },
  {
   "cell_type": "markdown",
   "metadata": {},
   "source": [
    "## Input\n",
    "number of test cases<br>\n",
    "matrix size<br>\n",
    "test case<br>\n",
    "...<br>\n",
    "matrix size<br>\n",
    "test case<br><br>\n",
    "\n",
    "3<br>\n",
    "4<br>\n",
    "1 2 3 4<br>\n",
    "2 1 4 3<br>\n",
    "3 4 1 2<br>\n",
    "4 3 2 1<br>\n",
    "4<br>\n",
    "2 2 2 2<br>\n",
    "2 3 2 3<br>\n",
    "2 2 2 3<br>\n",
    "2 2 2 2<br>\n",
    "3<br>\n",
    "2 1 3<br>\n",
    "1 3 2<br>\n",
    "1 2 3<br>\n",
    "\n",
    "  \n",
    "## Output\n",
    "Case #nr: trace / rows with duplicate numbers / column swith duplicate numbers<br><br>\n",
    "Case #1: 4 0 0<br>\n",
    "Case #2: 9 4 4<br>\n",
    "Case #3: 8 0 2<br>\n"
   ]
  },
  {
   "cell_type": "code",
   "execution_count": 152,
   "metadata": {},
   "outputs": [
    {
     "name": "stdout",
     "output_type": "stream",
     "text": [
      "Once deleted, variables cannot be recovered. Proceed (y/[n])? y\n"
     ]
    }
   ],
   "source": [
    "%reset"
   ]
  },
  {
   "cell_type": "code",
   "execution_count": 156,
   "metadata": {},
   "outputs": [],
   "source": [
    "FILENAME = 'Vestigium'\n",
    "\n",
    "import sys\n",
    "import numpy as np\n",
    "\n",
    "sys.stdin = open(FILENAME + \".in\", 'r')\n",
    "sys.stdout = open(FILENAME + \".out\", 'w')\n",
    "file_in = sys.stdin\n",
    "file_out = sys.stdout\n",
    "\n",
    "def get_line(): return file_in.readline()\n",
    "def get_int(): return int(get_line())\n",
    "def get_ints(): return [int(x) for x in get_line().split()]\n",
    "\n",
    "cases = get_int()\n",
    "case = 0\n",
    "\n",
    "for k in range(cases):\n",
    "    case += 1\n",
    "    N = get_int()\n",
    "    \n",
    "    #construct matrix\n",
    "    matrix = list()\n",
    "    for r in range(N): #loop over rows\n",
    "        matrix.append(get_ints())\n",
    "    matrix = np.array(matrix)\n",
    "    \n",
    "    #calculate trace\n",
    "    trace = 0\n",
    "    for t in range(N):\n",
    "        trace += matrix[t,t]\n",
    "    \n",
    "    #spot duplicates on rows\n",
    "    row_d = 0\n",
    "    for r in range(N): #loop over rows\n",
    "        row = np.sort(matrix[r,:])\n",
    "        for ii in range(N-1): #test for duplicates\n",
    "            if row[ii]==row[ii+1]:\n",
    "                row_d += 1\n",
    "                break\n",
    "    \n",
    "    #spot duplicates on columns\n",
    "    col_d = 0\n",
    "    for c in range(N): #loop over rows\n",
    "        col = np.sort(matrix[:,c])\n",
    "        for ii in range(N-1): #test for duplicates\n",
    "            if col[ii]==col[ii+1]:\n",
    "                col_d += 1\n",
    "                break\n",
    "    \n",
    "    print('Case #%d: %d %d %d' % (case,trace,row_d,col_d))\n"
   ]
  },
  {
   "cell_type": "code",
   "execution_count": null,
   "metadata": {},
   "outputs": [],
   "source": []
  }
 ],
 "metadata": {
  "kernelspec": {
   "display_name": "Python 3",
   "language": "python",
   "name": "python3"
  },
  "language_info": {
   "codemirror_mode": {
    "name": "ipython",
    "version": 3
   },
   "file_extension": ".py",
   "mimetype": "text/x-python",
   "name": "python",
   "nbconvert_exporter": "python",
   "pygments_lexer": "ipython3",
   "version": "3.7.5"
  }
 },
 "nbformat": 4,
 "nbformat_minor": 4
}

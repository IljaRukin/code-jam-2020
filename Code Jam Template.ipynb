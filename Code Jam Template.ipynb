{
 "cells": [
  {
   "cell_type": "raw",
   "metadata": {},
   "source": [
    "Problem\n",
    "\n"
   ]
  },
  {
   "cell_type": "code",
   "execution_count": null,
   "metadata": {},
   "outputs": [],
   "source": [
    "%reset"
   ]
  },
  {
   "cell_type": "code",
   "execution_count": null,
   "metadata": {},
   "outputs": [],
   "source": [
    "FILENAME = ''\n",
    "\n",
    "import sys\n",
    "import numpy as np\n",
    "\n",
    "sys.stdin = open(FILENAME + \".in\", 'r')\n",
    "sys.stdout = open(FILENAME + \".out\", 'w')\n",
    "file_in = sys.stdin\n",
    "file_out = sys.stdout\n",
    "\n",
    "def get_line(): return file_in.readline()\n",
    "def get_int(): return int(get_line())\n",
    "def get_ints(): return [int(x) for x in get_line().split()]\n",
    "\n",
    "cases = get_int()\n",
    "case = 0\n",
    "\n",
    "for k in range(cases):\n",
    "    case += 1\n",
    "    N = get_int()\n",
    "    data = get_ints()\n",
    "    \n",
    "    print('Case #%d: %d' % (case,result))\n"
   ]
  },
  {
   "cell_type": "code",
   "execution_count": null,
   "metadata": {},
   "outputs": [],
   "source": []
  }
 ],
 "metadata": {
  "kernelspec": {
   "display_name": "Python 3",
   "language": "python",
   "name": "python3"
  },
  "language_info": {
   "codemirror_mode": {
    "name": "ipython",
    "version": 3
   },
   "file_extension": ".py",
   "mimetype": "text/x-python",
   "name": "python",
   "nbconvert_exporter": "python",
   "pygments_lexer": "ipython3",
   "version": "3.7.5"
  }
 },
 "nbformat": 4,
 "nbformat_minor": 4
}

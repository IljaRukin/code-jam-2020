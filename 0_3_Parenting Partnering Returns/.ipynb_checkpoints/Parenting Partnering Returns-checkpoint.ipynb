{
 "cells": [
  {
   "cell_type": "markdown",
   "metadata": {},
   "source": [
    "## Parenting Partnering Returns\n",
    "Cameron and Jamie's kid is almost 3 years old! However, even though the child is more independent now, scheduling kid activities and domestic necessities is still a challenge for the couple.<br><br>\n",
    "\n",
    "Cameron and Jamie have a list of N activities to take care of during the day. Each activity happens during a specified interval during the day. They need to assign each activity to one of them, so that neither of them is responsible for two activities that overlap. An activity that ends at time t is not considered to overlap with another activity that starts at time t.<br><br>\n",
    "\n",
    "For example, suppose that Jamie and Cameron need to cover 3 activities: one running from 18:00 to 20:00, another from 19:00 to 21:00 and another from 22:00 to 23:00. One possibility would be for Jamie to cover the activity running from 19:00 to 21:00, with Cameron covering the other two. Another valid schedule would be for Cameron to cover the activity from 18:00 to 20:00 and Jamie to cover the other two. Notice that the first two activities overlap in the time between 19:00 and 20:00, so it is impossible to assign both of those activities to the same partner.<br><br>\n",
    "\n",
    "Given the starting and ending times of each activity, find any schedule that does not require the same person to cover overlapping activities, or say that it is impossible.<br><br>\n"
   ]
  },
  {
   "cell_type": "markdown",
   "metadata": {},
   "source": [
    "## Input\n",
    "\n",
    "<br>\n",
    "number of test cases<br>\n",
    "number of activities<br>\n",
    "start end end time of activity<br>\n",
    "...<br>\n",
    "number of activities<br>\n",
    "start end end time of activity<br>\n",
    "\n",
    "4<br>\n",
    "3<br>\n",
    "360 480<br>\n",
    "420 540<br>\n",
    "600 660<br>\n",
    "3<br>\n",
    "0 1440<br>\n",
    "1 3<br>\n",
    "2 4<br>\n",
    "5<br>\n",
    "99 150<br>\n",
    "1 100<br>\n",
    "100 301<br>\n",
    "2 5<br>\n",
    "150 250<br>\n",
    "2<br>\n",
    "0 720<br>\n",
    "720 1440<br>\n",
    "\n",
    "  \n",
    "## Output\n",
    "\n",
    "Case #nr: when Cameron and Jamie is responsible for the activity, or wheter it'S impossible without overlap<br><br>\n",
    "Case #1: CJC<br>\n",
    "Case #2: IMPOSSIBLE<br>\n",
    "Case #3: JCCJJ<br>\n",
    "Case #4: CC<br>\n",
    "\n"
   ]
  },
  {
   "cell_type": "code",
   "execution_count": null,
   "metadata": {},
   "outputs": [],
   "source": [
    "%reset"
   ]
  },
  {
   "cell_type": "code",
   "execution_count": 41,
   "metadata": {},
   "outputs": [],
   "source": [
    "FILENAME = 'Parenting Partnering Returns'\n",
    "\n",
    "import sys\n",
    "import numpy as np\n",
    "\n",
    "sys.stdin = open(FILENAME + \".in\", 'r')\n",
    "sys.stdout = open(FILENAME + \".out\", 'w')\n",
    "file_in = sys.stdin\n",
    "file_out = sys.stdout\n",
    "\n",
    "def get_line(): return file_in.readline()\n",
    "def get_int(): return int(get_line())\n",
    "def get_ints(): return [int(x) for x in get_line().split()]\n",
    "\n",
    "cases = get_int()\n",
    "case = 0\n",
    "\n",
    "for k in range(cases):\n",
    "    case += 1\n",
    "    N = get_int()\n",
    "    \n",
    "    actions = list()\n",
    "    for pos in range(N):\n",
    "        data = get_ints()\n",
    "        actions.append([pos,data[0],data[1]])\n",
    "    \n",
    "    actions = sorted(actions, key=lambda x: x[1])\n",
    "    \n",
    "    solution = [None]*N #empty list\n",
    "    J = -1\n",
    "    C = -1\n",
    "    try:\n",
    "        for kk in range(N):\n",
    "            if C <= actions[kk][1]:\n",
    "                pos = actions[kk][0]\n",
    "                solution[pos] = 'C'\n",
    "                C = actions[kk][2]\n",
    "            elif J <= actions[kk][1]:\n",
    "                pos = actions[kk][0]\n",
    "                solution[pos] = 'J'\n",
    "                J = actions[kk][2]\n",
    "            else:\n",
    "                raise StopIteration\n",
    "        \n",
    "        result = ''.join(solution)\n",
    "        print('Case #%d: %s' % (case,result))\n",
    "    \n",
    "    except StopIteration:\n",
    "        print('Case #%d: IMPOSSIBLE' % (case))\n"
   ]
  },
  {
   "cell_type": "code",
   "execution_count": null,
   "metadata": {},
   "outputs": [],
   "source": []
  }
 ],
 "metadata": {
  "kernelspec": {
   "display_name": "Python 3",
   "language": "python",
   "name": "python3"
  },
  "language_info": {
   "codemirror_mode": {
    "name": "ipython",
    "version": 3
   },
   "file_extension": ".py",
   "mimetype": "text/x-python",
   "name": "python",
   "nbconvert_exporter": "python",
   "pygments_lexer": "ipython3",
   "version": "3.7.5"
  }
 },
 "nbformat": 4,
 "nbformat_minor": 4
}
